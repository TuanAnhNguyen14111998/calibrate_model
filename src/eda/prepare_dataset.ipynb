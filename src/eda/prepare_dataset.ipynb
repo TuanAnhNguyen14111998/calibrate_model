{
 "cells": [
  {
   "cell_type": "code",
   "execution_count": 1,
   "id": "f9ab60d9-8fc3-4c30-a763-0d0e1f34f795",
   "metadata": {},
   "outputs": [],
   "source": [
    "import glob\n",
    "import pandas as pd"
   ]
  },
  {
   "cell_type": "code",
   "execution_count": 11,
   "id": "b6e3cfe4-7546-4bab-9120-89a86161c213",
   "metadata": {},
   "outputs": [],
   "source": [
    "path_folder = \"../../datasets/OfficeHomeDataset_10072016/Clipart/*/*.jpg\"\n",
    "\n",
    "dictionary = {\n",
    "    \"image_path\": [],\n",
    "    \"type dataset\": [],\n",
    "    \"classes\": []\n",
    "}\n",
    "\n",
    "for image_path in glob.glob(path_folder):\n",
    "    image_path = image_path.replace(\"../../\", \"\")\n",
    "    dictionary[\"image_path\"].append(image_path)\n",
    "    dictionary['type dataset'].append(image_path.split(\"/\")[2])\n",
    "    dictionary['classes'].append(image_path.split(\"/\")[3])\n",
    "    "
   ]
  },
  {
   "cell_type": "code",
   "execution_count": 12,
   "id": "044625ef-b86c-42fa-b2a9-a3db087b23e7",
   "metadata": {},
   "outputs": [
    {
     "data": {
      "text/html": [
       "<div>\n",
       "<style scoped>\n",
       "    .dataframe tbody tr th:only-of-type {\n",
       "        vertical-align: middle;\n",
       "    }\n",
       "\n",
       "    .dataframe tbody tr th {\n",
       "        vertical-align: top;\n",
       "    }\n",
       "\n",
       "    .dataframe thead th {\n",
       "        text-align: right;\n",
       "    }\n",
       "</style>\n",
       "<table border=\"1\" class=\"dataframe\">\n",
       "  <thead>\n",
       "    <tr style=\"text-align: right;\">\n",
       "      <th></th>\n",
       "      <th>image_path</th>\n",
       "      <th>type dataset</th>\n",
       "      <th>classes</th>\n",
       "    </tr>\n",
       "  </thead>\n",
       "  <tbody>\n",
       "    <tr>\n",
       "      <th>0</th>\n",
       "      <td>datasets/OfficeHomeDataset_10072016/Clipart/He...</td>\n",
       "      <td>Clipart</td>\n",
       "      <td>Helmet</td>\n",
       "    </tr>\n",
       "    <tr>\n",
       "      <th>1</th>\n",
       "      <td>datasets/OfficeHomeDataset_10072016/Clipart/He...</td>\n",
       "      <td>Clipart</td>\n",
       "      <td>Helmet</td>\n",
       "    </tr>\n",
       "    <tr>\n",
       "      <th>2</th>\n",
       "      <td>datasets/OfficeHomeDataset_10072016/Clipart/He...</td>\n",
       "      <td>Clipart</td>\n",
       "      <td>Helmet</td>\n",
       "    </tr>\n",
       "    <tr>\n",
       "      <th>3</th>\n",
       "      <td>datasets/OfficeHomeDataset_10072016/Clipart/He...</td>\n",
       "      <td>Clipart</td>\n",
       "      <td>Helmet</td>\n",
       "    </tr>\n",
       "    <tr>\n",
       "      <th>4</th>\n",
       "      <td>datasets/OfficeHomeDataset_10072016/Clipart/He...</td>\n",
       "      <td>Clipart</td>\n",
       "      <td>Helmet</td>\n",
       "    </tr>\n",
       "    <tr>\n",
       "      <th>...</th>\n",
       "      <td>...</td>\n",
       "      <td>...</td>\n",
       "      <td>...</td>\n",
       "    </tr>\n",
       "    <tr>\n",
       "      <th>4360</th>\n",
       "      <td>datasets/OfficeHomeDataset_10072016/Clipart/Ke...</td>\n",
       "      <td>Clipart</td>\n",
       "      <td>Keyboard</td>\n",
       "    </tr>\n",
       "    <tr>\n",
       "      <th>4361</th>\n",
       "      <td>datasets/OfficeHomeDataset_10072016/Clipart/Ke...</td>\n",
       "      <td>Clipart</td>\n",
       "      <td>Keyboard</td>\n",
       "    </tr>\n",
       "    <tr>\n",
       "      <th>4362</th>\n",
       "      <td>datasets/OfficeHomeDataset_10072016/Clipart/Ke...</td>\n",
       "      <td>Clipart</td>\n",
       "      <td>Keyboard</td>\n",
       "    </tr>\n",
       "    <tr>\n",
       "      <th>4363</th>\n",
       "      <td>datasets/OfficeHomeDataset_10072016/Clipart/Ke...</td>\n",
       "      <td>Clipart</td>\n",
       "      <td>Keyboard</td>\n",
       "    </tr>\n",
       "    <tr>\n",
       "      <th>4364</th>\n",
       "      <td>datasets/OfficeHomeDataset_10072016/Clipart/Ke...</td>\n",
       "      <td>Clipart</td>\n",
       "      <td>Keyboard</td>\n",
       "    </tr>\n",
       "  </tbody>\n",
       "</table>\n",
       "<p>4365 rows × 3 columns</p>\n",
       "</div>"
      ],
      "text/plain": [
       "                                             image_path type dataset   classes\n",
       "0     datasets/OfficeHomeDataset_10072016/Clipart/He...      Clipart    Helmet\n",
       "1     datasets/OfficeHomeDataset_10072016/Clipart/He...      Clipart    Helmet\n",
       "2     datasets/OfficeHomeDataset_10072016/Clipart/He...      Clipart    Helmet\n",
       "3     datasets/OfficeHomeDataset_10072016/Clipart/He...      Clipart    Helmet\n",
       "4     datasets/OfficeHomeDataset_10072016/Clipart/He...      Clipart    Helmet\n",
       "...                                                 ...          ...       ...\n",
       "4360  datasets/OfficeHomeDataset_10072016/Clipart/Ke...      Clipart  Keyboard\n",
       "4361  datasets/OfficeHomeDataset_10072016/Clipart/Ke...      Clipart  Keyboard\n",
       "4362  datasets/OfficeHomeDataset_10072016/Clipart/Ke...      Clipart  Keyboard\n",
       "4363  datasets/OfficeHomeDataset_10072016/Clipart/Ke...      Clipart  Keyboard\n",
       "4364  datasets/OfficeHomeDataset_10072016/Clipart/Ke...      Clipart  Keyboard\n",
       "\n",
       "[4365 rows x 3 columns]"
      ]
     },
     "execution_count": 12,
     "metadata": {},
     "output_type": "execute_result"
    }
   ],
   "source": [
    "df = pd.DataFrame(dictionary)\n",
    "df"
   ]
  },
  {
   "cell_type": "code",
   "execution_count": 13,
   "id": "bb5a6042-1ab7-4380-bd88-db0d003baf43",
   "metadata": {},
   "outputs": [],
   "source": [
    "def distribution_tenant(df):\n",
    "    dictionary = {\n",
    "        \"Classes\": [],\n",
    "        \"Number Images\": []\n",
    "    }\n",
    "    \n",
    "    for class_name in set(df.classes):\n",
    "        dictionary['Classes'].append(class_name)\n",
    "        dictionary['Number Images'].append(df[df.classes == class_name].shape[0])\n",
    "    \n",
    "    return pd.DataFrame(dictionary)"
   ]
  },
  {
   "cell_type": "code",
   "execution_count": 14,
   "id": "1ae0397b-c11f-465a-ae32-4a4920dcce0e",
   "metadata": {},
   "outputs": [],
   "source": [
    "distribution_tenant(df).sort_values(by=['Number Images'], ascending=False).to_csv(\"./distribution_classes.csv\", index=False)"
   ]
  },
  {
   "cell_type": "code",
   "execution_count": 21,
   "id": "9d8036d1-4171-4923-bd6d-0190935f82bd",
   "metadata": {},
   "outputs": [],
   "source": [
    "import pydicom as dicom\n",
    "import cv2"
   ]
  },
  {
   "cell_type": "code",
   "execution_count": 23,
   "id": "d5fdc129-ca86-4805-9a12-092689327396",
   "metadata": {},
   "outputs": [],
   "source": [
    "# image_path = \"/Users/tuananh/Downloads/datasets/1.2.392.200046.100.14.10686001178863181887404916406881043409_left.dcm\"\n",
    "# ds = dicom.dcmread(image_path)\n",
    "# pixel_array_numpy = ds.pixel_array"
   ]
  },
  {
   "cell_type": "code",
   "execution_count": null,
   "id": "1c30dc1e-2128-4e9b-bcad-57c8aa7e3db3",
   "metadata": {},
   "outputs": [],
   "source": []
  }
 ],
 "metadata": {
  "kernelspec": {
   "display_name": "Python 3 (ipykernel)",
   "language": "python",
   "name": "python3"
  },
  "language_info": {
   "codemirror_mode": {
    "name": "ipython",
    "version": 3
   },
   "file_extension": ".py",
   "mimetype": "text/x-python",
   "name": "python",
   "nbconvert_exporter": "python",
   "pygments_lexer": "ipython3",
   "version": "3.8.13"
  }
 },
 "nbformat": 4,
 "nbformat_minor": 5
}
